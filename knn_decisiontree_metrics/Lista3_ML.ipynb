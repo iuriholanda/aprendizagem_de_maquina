{
 "cells": [
  {
   "cell_type": "markdown",
   "id": "e4b91bec",
   "metadata": {},
   "source": [
    "# Questão 1"
   ]
  },
  {
   "cell_type": "code",
   "execution_count": 12,
   "id": "978a37ad",
   "metadata": {},
   "outputs": [],
   "source": [
    "import numpy as np\n",
    "from numpy import genfromtxt"
   ]
  },
  {
   "cell_type": "code",
   "execution_count": 13,
   "id": "5b7ca81c",
   "metadata": {},
   "outputs": [
    {
     "data": {
      "text/plain": [
       "(214, 22)"
      ]
     },
     "execution_count": 13,
     "metadata": {},
     "output_type": "execute_result"
    }
   ],
   "source": [
    "kc2 = genfromtxt('kc2.csv', delimiter=',')\n",
    "kc2.shape"
   ]
  },
  {
   "cell_type": "code",
   "execution_count": 14,
   "id": "ed943d56",
   "metadata": {},
   "outputs": [
    {
     "data": {
      "text/plain": [
       "((214, 21), (214, 1))"
      ]
     },
     "execution_count": 14,
     "metadata": {},
     "output_type": "execute_result"
    }
   ],
   "source": [
    "kc2_X = kc2[:, :-1] # (214,21)\n",
    "kc2_y = kc2[:, [-1]] # (214,1) classe 0 ou 1. \n",
    "kc2_X.shape, kc2_y.shape\n"
   ]
  },
  {
   "cell_type": "markdown",
   "id": "b31442c9",
   "metadata": {},
   "source": [
    "## item a) "
   ]
  },
  {
   "cell_type": "markdown",
   "id": "bc90f8d2",
   "metadata": {},
   "source": [
    "#### K-fold"
   ]
  },
  {
   "cell_type": "code",
   "execution_count": 95,
   "id": "1503a23d",
   "metadata": {},
   "outputs": [],
   "source": [
    "def compute_metrics_binary(y_pred, y_val):\n",
    "    y_val = y_val.ravel()\n",
    "    accuracy = np.mean(y_pred == y_val)\n",
    "\n",
    "    tp = np.sum((y_val == 1) & (y_pred == 1))\n",
    "    fp = np.sum((y_val != 1) & (y_pred == 1))\n",
    "    fn = np.sum((y_val == 1) & (y_pred != 1))\n",
    "\n",
    "    precision = tp / (tp + fp) if (tp + fp) > 0 else 0.0\n",
    "    recall = tp / (tp + fn) if (tp + fn) > 0 else 0.0\n",
    "    f1 = 2 * precision * recall / (precision + recall) if (precision + recall) > 0 else 0.0\n",
    "        \n",
    "    return accuracy, recall, precision, f1 "
   ]
  },
  {
   "cell_type": "code",
   "execution_count": null,
   "id": "3812f165",
   "metadata": {},
   "outputs": [],
   "source": [
    "def compute_accuracies(y_pred, y_val):\n",
    "    by_class_accuracies = []\n",
    "    accuracies = []\n",
    "\n",
    "    if  y_val.shape[1] > 1: # dados one hot encoded\n",
    "         y_val = np.argmax(y_val, axis=1)    \n",
    "\n",
    "    y_pred = y_pred.ravel()\n",
    "    y_val = y_val.ravel().astype(int)  \n",
    "\n",
    "    classes = np.unique(y_val)\n",
    " \n",
    "    y_val = y_val.ravel()\n",
    "\n",
    "    for k in classes: \n",
    "        y_pred_k = y_pred[y_val == k]\n",
    "        y_val_k = y_val[y_val == k]\n",
    "        class_acc = np.mean(y_pred_k==y_val_k)\n",
    "        by_class_accuracies.append(class_acc)\n",
    "            \n",
    "    accuracy = np.mean(y_pred == y_val)\n",
    "    accuracies.append(accuracy)\n",
    "\n",
    "    return accuracies, by_class_accuracies"
   ]
  },
  {
   "cell_type": "code",
   "execution_count": 120,
   "id": "6bce87a9",
   "metadata": {},
   "outputs": [],
   "source": [
    "# 10 fold cross validation:\n",
    "def k_fold_cross_validation(X, y, predicao, k=10):\n",
    "    \n",
    "    indices = np.arange(len(X))\n",
    "    np.random.shuffle(indices)\n",
    "\n",
    "    fold_size = len(X) // k\n",
    "\n",
    "    recalls = []\n",
    "    precisions = []\n",
    "    f1s = []\n",
    "    accuracies = []\n",
    "\n",
    "    for i in range(k):\n",
    "\n",
    "        start = i * fold_size\n",
    "        end = (i + 1) * fold_size if i != k - 1 else len(X)  \n",
    "        val_indices = indices[start:end]\n",
    "        train_indices = np.concatenate((indices[:start], indices[end:]))\n",
    "\n",
    "        X_treino, y_treino = X[train_indices], y[train_indices]\n",
    "        X_val, y_val = X[val_indices], y[val_indices]\n",
    "\n",
    "        mean = X_treino.mean(axis=0)\n",
    "        std = X_treino.std(axis=0, ddof=1)\n",
    "\n",
    "        std[std == 0] = 1\n",
    "        X_treino_norm = (X_treino - mean) / std\n",
    "        X_val_norm = (X_val - mean) / std\n",
    "\n",
    "        y_pred = predicao(X_treino_norm, y_treino, X_val_norm)\n",
    "        \n",
    "        accuracies_fold, recalls_fold, precisions_fold, f1s_fold = compute_metrics_binary(y_pred, y_val)\n",
    "\n",
    "        accuracies.append(accuracies_fold)\n",
    "        recalls.append(recalls_fold)\n",
    "        precisions.append(precisions_fold)\n",
    "        f1s.append(f1s_fold)\n",
    "\n",
    "\n",
    "    return np.array(accuracies), np.array(recalls), np.array(precisions), np.array(f1s)\n",
    "\n",
    "\n"
   ]
  },
  {
   "cell_type": "markdown",
   "id": "945b180c",
   "metadata": {},
   "source": [
    "#### KNN"
   ]
  },
  {
   "cell_type": "code",
   "execution_count": 1,
   "id": "f8a0f840",
   "metadata": {},
   "outputs": [],
   "source": [
    "def distancia_euclidiana(X_treino,X_teste):\n",
    "    return np.sqrt(np.sum((X_teste[:, np.newaxis, :] - X_treino[np.newaxis, :, :]) ** 2, axis=2))\n",
    "\n",
    "def distancia_mahalonobis(X_treino,X_teste):\n",
    "    cov = np.cov(X_treino, rowvar=False)\n",
    "    cov_inv = np.linalg.inv(cov)\n",
    "    distancias = []\n",
    "    for x in X_teste:\n",
    "        diff = X_treino - x\n",
    "        d = np.sqrt(np.sum((diff @ cov_inv) * diff, axis=1))\n",
    "        distancias.append(d)\n",
    "    return np.array(distancias)\n"
   ]
  },
  {
   "cell_type": "code",
   "execution_count": null,
   "id": "ba2e01e3",
   "metadata": {},
   "outputs": [],
   "source": [
    "# 1 = euclidiana, 2 = mahalonobis \n",
    "def predicao_KNN(X_treino, y_treino, X_teste, k = 1, distancia_tipo = 1):\n",
    "\n",
    "    if distancia_tipo == 1:\n",
    "        distancias = distancia_euclidiana(X_treino,X_teste)    \n",
    "    elif distancia_tipo == 2:\n",
    "        distancias = distancia_mahalonobis(X_treino,X_teste)\n",
    "    else: \n",
    "        print('erro, escolha 1 para distancia euclidiana ou 2 para mahalonobis')\n",
    "    predicoes = []\n",
    "\n",
    "    for i in range(X_teste.shape[0]): # para cada entrada\n",
    "        idx_k_menores = np.argsort(distancias[i])[:k]\n",
    "        classes = y_treino[idx_k_menores] \n",
    "        valores, contagens = np.unique(classes, return_counts=True)\n",
    "        predicoes.append(valores[np.argmax(contagens)])\n",
    "    return np.array(predicoes)\n"
   ]
  },
  {
   "cell_type": "markdown",
   "id": "4a6fb000",
   "metadata": {},
   "source": [
    "#### Árvore de decisão"
   ]
  },
  {
   "cell_type": "code",
   "execution_count": 3,
   "id": "4f699c30",
   "metadata": {},
   "outputs": [],
   "source": [
    "from sklearn.tree import DecisionTreeClassifier\n",
    "\n",
    "def predicaoArvore(X_treino, y_treino, X_val):\n",
    "    clf = DecisionTreeClassifier(random_state=0)\n",
    "    clf.fit(X_treino, y_treino)\n",
    "    return clf.predict(X_val)"
   ]
  },
  {
   "cell_type": "markdown",
   "id": "22e1ba36",
   "metadata": {},
   "source": [
    "## item b)"
   ]
  },
  {
   "cell_type": "code",
   "execution_count": 127,
   "id": "8947111a",
   "metadata": {},
   "outputs": [
    {
     "name": "stdout",
     "output_type": "stream",
     "text": [
      "Acurácia média para árvore de decisão: 0.733904761904762\n",
      "Desvio padrão para para acurácia: 0.08821351133905984\n",
      "\n",
      "Revocação média para árvore de decisão:  0.7167782217782218\n",
      "Desvio padrão para para revocação: 0.14266368500090312\n",
      "\n",
      "Precisão média para árvore de decisão:  0.7654428904428905\n",
      "Desvio padrão para para precisão: 0.1537095610953507\n",
      "\n",
      "F1-score média para árvore de decisão:  0.7231645962732919\n",
      "Desvio padrão para para F1-score: 0.09661160397931445\n",
      "\n"
     ]
    }
   ],
   "source": [
    "acc, recall, precision, f1 = k_fold_cross_validation(kc2_X, kc2_y, predicaoArvore, k=10)\n",
    "print(f'Acurácia média para árvore de decisão: {acc.mean()}\\nDesvio padrão para para acurácia: {acc.std()}\\n' ) \n",
    "print(f'Revocação média para árvore de decisão:  {recall.mean()}\\nDesvio padrão para para revocação: {recall.std()}\\n')\n",
    "print(f'Precisão média para árvore de decisão:  {precision.mean()}\\nDesvio padrão para para precisão: {precision.std()}\\n')\n",
    "print(f'F1-score média para árvore de decisão:  {f1.mean()}\\nDesvio padrão para para F1-score: {f1.std()}\\n')"
   ]
  },
  {
   "cell_type": "markdown",
   "id": "279a24db",
   "metadata": {},
   "source": [
    "K = 1\n",
    "\n",
    "Distância Euclidiana"
   ]
  },
  {
   "cell_type": "code",
   "execution_count": 132,
   "id": "7d4b1e36",
   "metadata": {},
   "outputs": [
    {
     "name": "stdout",
     "output_type": "stream",
     "text": [
      "Acurácia média para KNN: 0.7815238095238095\n",
      "Desvio padrão para para acurácia: 0.08528591369522831\n",
      "\n",
      "Revocação média para KNN:  0.7785173160173161\n",
      "Desvio padrão para para revocação: 0.13121098262976832\n",
      "\n",
      "Precisão média para KNN:  0.7883119658119659\n",
      "Desvio padrão para para precisão: 0.14643709900328208\n",
      "\n",
      "F1-score média para KNN:  0.7711825972978423\n",
      "Desvio padrão para para F1-score: 0.10382633978271592\n",
      "\n"
     ]
    }
   ],
   "source": [
    "#k = 1, distancia euclidiana\n",
    "acc, recall, precision, f1 = k_fold_cross_validation(kc2_X, kc2_y, predicao_KNN)\n",
    "print(f'Acurácia média para KNN: {acc.mean()}\\nDesvio padrão para para acurácia: {acc.std()}\\n' ) \n",
    "print(f'Revocação média para KNN:  {recall.mean()}\\nDesvio padrão para para revocação: {recall.std()}\\n')\n",
    "print(f'Precisão média para KNN:  {precision.mean()}\\nDesvio padrão para para precisão: {precision.std()}\\n')\n",
    "print(f'F1-score média para KNN:  {f1.mean()}\\nDesvio padrão para para F1-score: {f1.std()}\\n')"
   ]
  },
  {
   "cell_type": "markdown",
   "id": "5ccfe0fe",
   "metadata": {},
   "source": [
    "K = 1\n",
    "\n",
    "Distância de Mahalonobis"
   ]
  },
  {
   "cell_type": "code",
   "execution_count": null,
   "id": "0030ef4e",
   "metadata": {},
   "outputs": [
    {
     "name": "stdout",
     "output_type": "stream",
     "text": [
      "Acurácia média para KNN: 0.7649523809523809\n",
      "Desvio padrão para para acurácia: 0.11823401983655979\n",
      "\n",
      "Revocação média para KNN:  0.7658599733599734\n",
      "Desvio padrão para para revocação: 0.16517265937157785\n",
      "\n",
      "Precisão média para KNN:  0.7623776223776224\n",
      "Desvio padrão para para precisão: 0.14181747876100237\n",
      "\n",
      "F1-score média para KNN:  0.7541750530171581\n",
      "Desvio padrão para para F1-score: 0.13990713918189415\n",
      "\n"
     ]
    }
   ],
   "source": [
    "#k = 1, mahalonobis \n",
    "precisao = lambda Xt, yt, Xv: predicao_KNN(Xt, yt, Xv, k=1, distancia_tipo=2)\n",
    "acc, recall, precision, f1 = k_fold_cross_validation(kc2_X, kc2_y, predicao_KNN)\n",
    "print(f'Acurácia média para KNN: {acc.mean()}\\nDesvio padrão para para acurácia: {acc.std()}\\n' ) \n",
    "print(f'Revocação média para KNN:  {recall.mean()}\\nDesvio padrão para para revocação: {recall.std()}\\n')\n",
    "print(f'Precisão média para KNN:  {precision.mean()}\\nDesvio padrão para para precisão: {precision.std()}\\n')\n",
    "print(f'F1-score média para KNN:  {f1.mean()}\\nDesvio padrão para para F1-score: {f1.std()}\\n')\n"
   ]
  },
  {
   "cell_type": "markdown",
   "id": "8ed4d0e3",
   "metadata": {},
   "source": [
    "K = 5\n",
    "\n",
    "Distância Euclidiana"
   ]
  },
  {
   "cell_type": "code",
   "execution_count": null,
   "id": "99e7ff9a",
   "metadata": {},
   "outputs": [
    {
     "name": "stdout",
     "output_type": "stream",
     "text": [
      "Acurácia média para KNN: 0.7878095238095237\n",
      "Desvio padrão para para acurácia: 0.11024014191250339\n",
      "\n",
      "Revocação média para KNN:  0.8105014430014432\n",
      "Desvio padrão para para revocação: 0.13449350990152212\n",
      "\n",
      "Precisão média para KNN:  0.7829814629814631\n",
      "Desvio padrão para para precisão: 0.09886436858458449\n",
      "\n",
      "F1-score média para KNN:  0.7905216868477739\n",
      "Desvio padrão para para F1-score: 0.09800880348270978\n",
      "\n"
     ]
    }
   ],
   "source": [
    "precisao = lambda Xt, yt, Xv: predicao_KNN(Xt, yt, Xv, k=5, distancia_tipo=1)\n",
    "acc, recall, precision, f1 = k_fold_cross_validation(kc2_X, kc2_y, predicao_KNN)\n",
    "print(f'Acurácia média para KNN: {acc.mean()}\\nDesvio padrão para para acurácia: {acc.std()}\\n' ) \n",
    "print(f'Revocação média para KNN:  {recall.mean()}\\nDesvio padrão para para revocação: {recall.std()}\\n')\n",
    "print(f'Precisão média para KNN:  {precision.mean()}\\nDesvio padrão para para precisão: {precision.std()}\\n')\n",
    "print(f'F1-score média para KNN:  {f1.mean()}\\nDesvio padrão para para F1-score: {f1.std()}\\n')"
   ]
  },
  {
   "cell_type": "markdown",
   "id": "9ac97e47",
   "metadata": {},
   "source": [
    "K = 5\n",
    "\n",
    "Distância de Mahalonobis"
   ]
  },
  {
   "cell_type": "code",
   "execution_count": 140,
   "id": "88d68fc5",
   "metadata": {},
   "outputs": [
    {
     "name": "stdout",
     "output_type": "stream",
     "text": [
      "Acurácia média para KNN: 0.7752380952380952\n",
      "Desvio padrão para para acurácia: 0.08761904761904762\n",
      "\n",
      "Revocação média para KNN:  0.7611499611499613\n",
      "Desvio padrão para para revocação: 0.11319620290381605\n",
      "\n",
      "Precisão média para KNN:  0.7928282828282829\n",
      "Desvio padrão para para precisão: 0.12455835662729857\n",
      "\n",
      "F1-score média para KNN:  0.7709915764378008\n",
      "Desvio padrão para para F1-score: 0.09382073558781652\n",
      "\n"
     ]
    }
   ],
   "source": [
    "precisao = lambda Xt, yt, Xv: predicao_KNN(Xt, yt, Xv, k=5, distancia_tipo=2)\n",
    "acc, recall, precision, f1 = k_fold_cross_validation(kc2_X, kc2_y, predicao_KNN)\n",
    "print(f'Acurácia média para KNN: {acc.mean()}\\nDesvio padrão para para acurácia: {acc.std()}\\n' ) \n",
    "print(f'Revocação média para KNN:  {recall.mean()}\\nDesvio padrão para para revocação: {recall.std()}\\n')\n",
    "print(f'Precisão média para KNN:  {precision.mean()}\\nDesvio padrão para para precisão: {precision.std()}\\n')\n",
    "print(f'F1-score média para KNN:  {f1.mean()}\\nDesvio padrão para para F1-score: {f1.std()}\\n')"
   ]
  }
 ],
 "metadata": {
  "kernelspec": {
   "display_name": "Python 3",
   "language": "python",
   "name": "python3"
  },
  "language_info": {
   "codemirror_mode": {
    "name": "ipython",
    "version": 3
   },
   "file_extension": ".py",
   "mimetype": "text/x-python",
   "name": "python",
   "nbconvert_exporter": "python",
   "pygments_lexer": "ipython3",
   "version": "3.11.9"
  }
 },
 "nbformat": 4,
 "nbformat_minor": 5
}
