{
 "cells": [
  {
   "cell_type": "markdown",
   "id": "e64c5323",
   "metadata": {},
   "source": [
    "# Questão 1"
   ]
  },
  {
   "cell_type": "code",
   "execution_count": 24,
   "id": "d1675834",
   "metadata": {},
   "outputs": [],
   "source": [
    "import numpy as np\n",
    "from numpy import genfromtxt\n",
    "from sklearn.svm import SVC\n",
    "from sklearn.ensemble import RandomForestClassifier\n"
   ]
  },
  {
   "cell_type": "code",
   "execution_count": 3,
   "id": "f6b42aa3",
   "metadata": {},
   "outputs": [
    {
     "data": {
      "text/plain": [
       "(2000, 9)"
      ]
     },
     "execution_count": 3,
     "metadata": {},
     "output_type": "execute_result"
    }
   ],
   "source": [
    "california_data = genfromtxt('californiabin.csv', delimiter=',')\n",
    "california_data.shape"
   ]
  },
  {
   "cell_type": "code",
   "execution_count": 4,
   "id": "f014f813",
   "metadata": {},
   "outputs": [
    {
     "data": {
      "text/plain": [
       "((2000, 8), (2000, 1))"
      ]
     },
     "execution_count": 4,
     "metadata": {},
     "output_type": "execute_result"
    }
   ],
   "source": [
    "california_data_X = california_data[:, :-1] # (2000,8)\n",
    "california_data_y = california_data[:, [-1]] # (2000,1) \n",
    "california_data_X.shape, california_data_y.shape\n"
   ]
  },
  {
   "cell_type": "markdown",
   "id": "89d18d3f",
   "metadata": {},
   "source": [
    "## item a) "
   ]
  },
  {
   "cell_type": "markdown",
   "id": "1de1dc2a",
   "metadata": {},
   "source": [
    "#### Split treino/teste (80/20)"
   ]
  },
  {
   "cell_type": "code",
   "execution_count": 5,
   "id": "ef853772",
   "metadata": {},
   "outputs": [],
   "source": [
    "from sklearn.model_selection import train_test_split\n",
    "X_treino_california, X_teste_california, y_treino_california, y_teste_california = train_test_split(california_data_X, california_data_y, test_size=0.2, random_state=1)"
   ]
  },
  {
   "cell_type": "markdown",
   "id": "0ceabeaf",
   "metadata": {},
   "source": [
    "#### Funções auxiliares para extrair as métricas do k-fold"
   ]
  },
  {
   "cell_type": "code",
   "execution_count": 9,
   "id": "37e62e28",
   "metadata": {},
   "outputs": [],
   "source": [
    "def compute_metrics_binary(y_pred, y_val):\n",
    "    y_val = y_val.ravel()\n",
    "    accuracy = np.mean(y_pred == y_val)\n",
    "\n",
    "    tp = np.sum((y_val == 1) & (y_pred == 1))\n",
    "    fp = np.sum((y_val != 1) & (y_pred == 1))\n",
    "    fn = np.sum((y_val == 1) & (y_pred != 1))\n",
    "\n",
    "    precision = tp / (tp + fp) if (tp + fp) > 0 else 0.0\n",
    "    recall = tp / (tp + fn) if (tp + fn) > 0 else 0.0\n",
    "    f1 = 2 * precision * recall / (precision + recall) if (precision + recall) > 0 else 0.0\n",
    "        \n",
    "    return accuracy, recall, precision, f1 "
   ]
  },
  {
   "cell_type": "code",
   "execution_count": 10,
   "id": "9ce89017",
   "metadata": {},
   "outputs": [],
   "source": [
    "# 10 fold cross validation:\n",
    "def k_fold_cross_validation(X, y, predicao, k=10):\n",
    "    \n",
    "    indices = np.arange(len(X))\n",
    "    np.random.shuffle(indices)\n",
    "\n",
    "    fold_size = len(X) // k\n",
    "\n",
    "    recalls = []\n",
    "    precisions = []\n",
    "    f1s = []\n",
    "    accuracies = []\n",
    "\n",
    "    for i in range(k):\n",
    "\n",
    "        start = i * fold_size\n",
    "        end = (i + 1) * fold_size if i != k - 1 else len(X)  \n",
    "        val_indices = indices[start:end]\n",
    "        train_indices = np.concatenate((indices[:start], indices[end:]))\n",
    "\n",
    "        X_treino, y_treino = X[train_indices], y[train_indices]\n",
    "        X_val, y_val = X[val_indices], y[val_indices]\n",
    "\n",
    "        mean = X_treino.mean(axis=0)\n",
    "        std = X_treino.std(axis=0, ddof=1)\n",
    "\n",
    "        std[std == 0] = 1\n",
    "        X_treino_norm = (X_treino - mean) / std\n",
    "        X_val_norm = (X_val - mean) / std\n",
    "\n",
    "        y_pred = predicao(X_treino_norm, y_treino, X_val_norm)\n",
    "        \n",
    "        accuracies_fold, recalls_fold, precisions_fold, f1s_fold = compute_metrics_binary(y_pred, y_val)\n",
    "\n",
    "        accuracies.append(accuracies_fold)\n",
    "        recalls.append(recalls_fold)\n",
    "        precisions.append(precisions_fold)\n",
    "        f1s.append(f1s_fold)\n",
    "\n",
    "\n",
    "    return np.array(accuracies), np.array(recalls), np.array(precisions), np.array(f1s)"
   ]
  },
  {
   "cell_type": "markdown",
   "id": "44677039",
   "metadata": {},
   "source": [
    "#### Grid search para C e $\\gamma$ (SVM)"
   ]
  },
  {
   "cell_type": "code",
   "execution_count": 7,
   "id": "0e7d34da",
   "metadata": {},
   "outputs": [],
   "source": [
    "# Povoando as listas de valores para gamma e C\n",
    "c_list = [] \n",
    "gamma_list = []\n",
    "for i in range(-5,16,2):\n",
    "    c_list.append(2**i)\n",
    "    gamma_list.append(2**-i)"
   ]
  },
  {
   "cell_type": "code",
   "execution_count": 35,
   "id": "41a189f2",
   "metadata": {},
   "outputs": [
    {
     "name": "stdout",
     "output_type": "stream",
     "text": [
      "C=0.03125, gamma=32, avg_acc=0.4888\n",
      "C=0.03125, gamma=8, avg_acc=0.5075\n",
      "C=0.03125, gamma=2, avg_acc=0.5212\n",
      "C=0.03125, gamma=0.5, avg_acc=0.8050\n",
      "C=0.03125, gamma=0.125, avg_acc=0.8175\n",
      "C=0.03125, gamma=0.03125, avg_acc=0.7963\n",
      "C=0.03125, gamma=0.0078125, avg_acc=0.6213\n",
      "C=0.03125, gamma=0.001953125, avg_acc=0.5075\n",
      "C=0.03125, gamma=0.00048828125, avg_acc=0.5075\n",
      "C=0.03125, gamma=0.0001220703125, avg_acc=0.5075\n",
      "C=0.03125, gamma=3.0517578125e-05, avg_acc=0.5075\n",
      "C=0.125, gamma=32, avg_acc=0.5075\n",
      "C=0.125, gamma=8, avg_acc=0.5075\n",
      "C=0.125, gamma=2, avg_acc=0.7200\n",
      "C=0.125, gamma=0.5, avg_acc=0.8244\n",
      "C=0.125, gamma=0.125, avg_acc=0.8325\n",
      "C=0.125, gamma=0.03125, avg_acc=0.8269\n",
      "C=0.125, gamma=0.0078125, avg_acc=0.8037\n",
      "C=0.125, gamma=0.001953125, avg_acc=0.6344\n",
      "C=0.125, gamma=0.00048828125, avg_acc=0.5075\n",
      "C=0.125, gamma=0.0001220703125, avg_acc=0.5144\n",
      "C=0.125, gamma=3.0517578125e-05, avg_acc=0.5219\n",
      "C=0.5, gamma=32, avg_acc=0.5300\n",
      "C=0.5, gamma=8, avg_acc=0.6044\n",
      "C=0.5, gamma=2, avg_acc=0.8175\n",
      "C=0.5, gamma=0.5, avg_acc=0.8494\n",
      "C=0.5, gamma=0.125, avg_acc=0.8419\n",
      "C=0.5, gamma=0.03125, avg_acc=0.8381\n",
      "C=0.5, gamma=0.0078125, avg_acc=0.8319\n",
      "C=0.5, gamma=0.001953125, avg_acc=0.8075\n",
      "C=0.5, gamma=0.00048828125, avg_acc=0.6444\n",
      "C=0.5, gamma=0.0001220703125, avg_acc=0.5075\n",
      "C=0.5, gamma=3.0517578125e-05, avg_acc=0.5194\n",
      "C=2, gamma=32, avg_acc=0.5813\n",
      "C=2, gamma=8, avg_acc=0.7337\n",
      "C=2, gamma=2, avg_acc=0.8256\n",
      "C=2, gamma=0.5, avg_acc=0.8506\n",
      "C=2, gamma=0.125, avg_acc=0.8519\n",
      "C=2, gamma=0.03125, avg_acc=0.8456\n",
      "C=2, gamma=0.0078125, avg_acc=0.8356\n",
      "C=2, gamma=0.001953125, avg_acc=0.8300\n",
      "C=2, gamma=0.00048828125, avg_acc=0.8006\n",
      "C=2, gamma=0.0001220703125, avg_acc=0.6406\n",
      "C=2, gamma=3.0517578125e-05, avg_acc=0.5075\n",
      "C=8, gamma=32, avg_acc=0.5850\n",
      "C=8, gamma=8, avg_acc=0.7450\n",
      "C=8, gamma=2, avg_acc=0.8156\n",
      "C=8, gamma=0.5, avg_acc=0.8438\n",
      "C=8, gamma=0.125, avg_acc=0.8525\n",
      "C=8, gamma=0.03125, avg_acc=0.8525\n",
      "C=8, gamma=0.0078125, avg_acc=0.8500\n",
      "C=8, gamma=0.001953125, avg_acc=0.8381\n",
      "C=8, gamma=0.00048828125, avg_acc=0.8331\n",
      "C=8, gamma=0.0001220703125, avg_acc=0.8037\n",
      "C=8, gamma=3.0517578125e-05, avg_acc=0.6488\n",
      "C=32, gamma=32, avg_acc=0.5831\n",
      "C=32, gamma=8, avg_acc=0.7469\n",
      "C=32, gamma=2, avg_acc=0.8156\n",
      "C=32, gamma=0.5, avg_acc=0.8187\n",
      "C=32, gamma=0.125, avg_acc=0.8438\n",
      "C=32, gamma=0.03125, avg_acc=0.8538\n",
      "C=32, gamma=0.0078125, avg_acc=0.8556\n",
      "C=32, gamma=0.001953125, avg_acc=0.8481\n",
      "C=32, gamma=0.00048828125, avg_acc=0.8400\n",
      "C=32, gamma=0.0001220703125, avg_acc=0.8331\n",
      "C=32, gamma=3.0517578125e-05, avg_acc=0.8100\n",
      "C=128, gamma=32, avg_acc=0.5825\n",
      "C=128, gamma=8, avg_acc=0.7456\n",
      "C=128, gamma=2, avg_acc=0.8119\n",
      "C=128, gamma=0.5, avg_acc=0.8112\n",
      "C=128, gamma=0.125, avg_acc=0.8481\n",
      "C=128, gamma=0.03125, avg_acc=0.8569\n",
      "C=128, gamma=0.0078125, avg_acc=0.8562\n",
      "C=128, gamma=0.001953125, avg_acc=0.8544\n",
      "C=128, gamma=0.00048828125, avg_acc=0.8463\n",
      "C=128, gamma=0.0001220703125, avg_acc=0.8406\n",
      "C=128, gamma=3.0517578125e-05, avg_acc=0.8331\n",
      "C=512, gamma=32, avg_acc=0.5744\n",
      "C=512, gamma=8, avg_acc=0.7381\n",
      "C=512, gamma=2, avg_acc=0.8094\n",
      "C=512, gamma=0.5, avg_acc=0.7963\n",
      "C=512, gamma=0.125, avg_acc=0.8375\n",
      "C=512, gamma=0.03125, avg_acc=0.8538\n",
      "C=512, gamma=0.0078125, avg_acc=0.8525\n",
      "C=512, gamma=0.001953125, avg_acc=0.8544\n",
      "C=512, gamma=0.00048828125, avg_acc=0.8550\n",
      "C=512, gamma=0.0001220703125, avg_acc=0.8463\n",
      "C=512, gamma=3.0517578125e-05, avg_acc=0.8388\n",
      "C=2048, gamma=32, avg_acc=0.5756\n",
      "C=2048, gamma=8, avg_acc=0.7419\n",
      "C=2048, gamma=2, avg_acc=0.8187\n",
      "C=2048, gamma=0.5, avg_acc=0.7919\n",
      "C=2048, gamma=0.125, avg_acc=0.8262\n",
      "C=2048, gamma=0.03125, avg_acc=0.8469\n",
      "C=2048, gamma=0.0078125, avg_acc=0.8519\n",
      "C=2048, gamma=0.001953125, avg_acc=0.8550\n",
      "C=2048, gamma=0.00048828125, avg_acc=0.8544\n",
      "C=2048, gamma=0.0001220703125, avg_acc=0.8506\n",
      "C=2048, gamma=3.0517578125e-05, avg_acc=0.8463\n",
      "C=8192, gamma=32, avg_acc=0.5844\n",
      "C=8192, gamma=8, avg_acc=0.7344\n",
      "C=8192, gamma=2, avg_acc=0.8112\n",
      "C=8192, gamma=0.5, avg_acc=0.7881\n",
      "C=8192, gamma=0.125, avg_acc=0.8200\n",
      "C=8192, gamma=0.03125, avg_acc=0.8475\n",
      "C=8192, gamma=0.0078125, avg_acc=0.8569\n",
      "C=8192, gamma=0.001953125, avg_acc=0.8519\n",
      "C=8192, gamma=0.00048828125, avg_acc=0.8531\n",
      "C=8192, gamma=0.0001220703125, avg_acc=0.8556\n",
      "C=8192, gamma=3.0517578125e-05, avg_acc=0.8506\n",
      "C=32768, gamma=32, avg_acc=0.5794\n",
      "C=32768, gamma=8, avg_acc=0.7475\n",
      "C=32768, gamma=2, avg_acc=0.8131\n",
      "C=32768, gamma=0.5, avg_acc=0.8056\n",
      "C=32768, gamma=0.125, avg_acc=0.8112\n",
      "C=32768, gamma=0.03125, avg_acc=0.8369\n",
      "C=32768, gamma=0.0078125, avg_acc=0.8544\n",
      "C=32768, gamma=0.001953125, avg_acc=0.8475\n",
      "C=32768, gamma=0.00048828125, avg_acc=0.8562\n",
      "C=32768, gamma=0.0001220703125, avg_acc=0.8550\n",
      "C=32768, gamma=3.0517578125e-05, avg_acc=0.8469\n"
     ]
    }
   ],
   "source": [
    "y_treino_california = y_treino_california.ravel()\n",
    "best_score_SVM=0\n",
    "best_params_SVM = {}\n",
    "\n",
    "for c in c_list:\n",
    "    for gamma in gamma_list:\n",
    "        \n",
    "        def predicaoSVM(X_treino, y_treino, X_teste):\n",
    "            model = SVC(kernel='rbf', C=c, gamma=gamma)\n",
    "            model.fit(X_treino, y_treino)\n",
    "            return model.predict(X_teste)\n",
    "        \n",
    "        acc, recalls, precs, f1s = k_fold_cross_validation(X_treino_california, y_treino_california, predicaoSVM, k=10)\n",
    "        \n",
    "        avg_acc = np.mean(acc)\n",
    "        print(f\"C={c}, gamma={gamma}, avg_acc={avg_acc:.4f}\")\n",
    "\n",
    "        if avg_acc > best_score_SVM:\n",
    "            best_score_SVM = avg_acc\n",
    "            best_params_SVM = {'C': c, 'gamma': gamma}\n"
   ]
  },
  {
   "cell_type": "code",
   "execution_count": 36,
   "id": "f6b1dae3",
   "metadata": {},
   "outputs": [
    {
     "name": "stdout",
     "output_type": "stream",
     "text": [
      "C: 128\n",
      "Gamma: 0.03125\n",
      "Melhor score de acurácia médio: 0.8568750000000002\n"
     ]
    }
   ],
   "source": [
    "best_c = best_params_SVM['C']    \n",
    "best_gamma = best_params_SVM['gamma']\n",
    "print(f'C: {best_c}\\nGamma: {best_gamma}')\n",
    "print(f'Melhor score de acurácia médio: {best_score_SVM}')"
   ]
  },
  {
   "cell_type": "markdown",
   "id": "070f3117",
   "metadata": {},
   "source": [
    "#### Grid search para número de classificadores e profundidade máxima(Random Forest)"
   ]
  },
  {
   "cell_type": "code",
   "execution_count": 29,
   "id": "1493c36d",
   "metadata": {},
   "outputs": [],
   "source": [
    "n_classificadores = [i*10 for i in range(1,21)]\n",
    "max_depth = [4, 6, 8, 10, None]"
   ]
  },
  {
   "cell_type": "code",
   "execution_count": 32,
   "id": "64b96f4c",
   "metadata": {},
   "outputs": [
    {
     "name": "stdout",
     "output_type": "stream",
     "text": [
      "n_classificadores=10, max_depth=4, avg_acc=0.7956\n",
      "n_classificadores=10, max_depth=6, avg_acc=0.8325\n",
      "n_classificadores=10, max_depth=8, avg_acc=0.8462\n",
      "n_classificadores=10, max_depth=10, avg_acc=0.8387\n",
      "n_classificadores=10, max_depth=None, avg_acc=0.8450\n",
      "n_classificadores=20, max_depth=4, avg_acc=0.8069\n",
      "n_classificadores=20, max_depth=6, avg_acc=0.8456\n",
      "n_classificadores=20, max_depth=8, avg_acc=0.8413\n",
      "n_classificadores=20, max_depth=10, avg_acc=0.8606\n",
      "n_classificadores=20, max_depth=None, avg_acc=0.8594\n",
      "n_classificadores=30, max_depth=4, avg_acc=0.8181\n",
      "n_classificadores=30, max_depth=6, avg_acc=0.8525\n",
      "n_classificadores=30, max_depth=8, avg_acc=0.8538\n",
      "n_classificadores=30, max_depth=10, avg_acc=0.8644\n",
      "n_classificadores=30, max_depth=None, avg_acc=0.8581\n",
      "n_classificadores=40, max_depth=4, avg_acc=0.8181\n",
      "n_classificadores=40, max_depth=6, avg_acc=0.8500\n",
      "n_classificadores=40, max_depth=8, avg_acc=0.8594\n",
      "n_classificadores=40, max_depth=10, avg_acc=0.8656\n",
      "n_classificadores=40, max_depth=None, avg_acc=0.8662\n",
      "n_classificadores=50, max_depth=4, avg_acc=0.8206\n",
      "n_classificadores=50, max_depth=6, avg_acc=0.8487\n",
      "n_classificadores=50, max_depth=8, avg_acc=0.8613\n",
      "n_classificadores=50, max_depth=10, avg_acc=0.8581\n",
      "n_classificadores=50, max_depth=None, avg_acc=0.8694\n",
      "n_classificadores=60, max_depth=4, avg_acc=0.8225\n",
      "n_classificadores=60, max_depth=6, avg_acc=0.8562\n",
      "n_classificadores=60, max_depth=8, avg_acc=0.8519\n",
      "n_classificadores=60, max_depth=10, avg_acc=0.8594\n",
      "n_classificadores=60, max_depth=None, avg_acc=0.8625\n",
      "n_classificadores=70, max_depth=4, avg_acc=0.8269\n",
      "n_classificadores=70, max_depth=6, avg_acc=0.8438\n",
      "n_classificadores=70, max_depth=8, avg_acc=0.8644\n",
      "n_classificadores=70, max_depth=10, avg_acc=0.8688\n",
      "n_classificadores=70, max_depth=None, avg_acc=0.8656\n",
      "n_classificadores=80, max_depth=4, avg_acc=0.8250\n",
      "n_classificadores=80, max_depth=6, avg_acc=0.8487\n",
      "n_classificadores=80, max_depth=8, avg_acc=0.8637\n",
      "n_classificadores=80, max_depth=10, avg_acc=0.8644\n",
      "n_classificadores=80, max_depth=None, avg_acc=0.8675\n",
      "n_classificadores=90, max_depth=4, avg_acc=0.8131\n",
      "n_classificadores=90, max_depth=6, avg_acc=0.8475\n",
      "n_classificadores=90, max_depth=8, avg_acc=0.8538\n",
      "n_classificadores=90, max_depth=10, avg_acc=0.8706\n",
      "n_classificadores=90, max_depth=None, avg_acc=0.8606\n",
      "n_classificadores=100, max_depth=4, avg_acc=0.8294\n",
      "n_classificadores=100, max_depth=6, avg_acc=0.8519\n",
      "n_classificadores=100, max_depth=8, avg_acc=0.8569\n",
      "n_classificadores=100, max_depth=10, avg_acc=0.8581\n",
      "n_classificadores=100, max_depth=None, avg_acc=0.8613\n",
      "n_classificadores=110, max_depth=4, avg_acc=0.8262\n",
      "n_classificadores=110, max_depth=6, avg_acc=0.8531\n",
      "n_classificadores=110, max_depth=8, avg_acc=0.8644\n",
      "n_classificadores=110, max_depth=10, avg_acc=0.8656\n",
      "n_classificadores=110, max_depth=None, avg_acc=0.8669\n",
      "n_classificadores=120, max_depth=4, avg_acc=0.8294\n",
      "n_classificadores=120, max_depth=6, avg_acc=0.8556\n",
      "n_classificadores=120, max_depth=8, avg_acc=0.8594\n",
      "n_classificadores=120, max_depth=10, avg_acc=0.8644\n",
      "n_classificadores=120, max_depth=None, avg_acc=0.8631\n",
      "n_classificadores=130, max_depth=4, avg_acc=0.8281\n",
      "n_classificadores=130, max_depth=6, avg_acc=0.8525\n",
      "n_classificadores=130, max_depth=8, avg_acc=0.8569\n",
      "n_classificadores=130, max_depth=10, avg_acc=0.8594\n",
      "n_classificadores=130, max_depth=None, avg_acc=0.8669\n",
      "n_classificadores=140, max_depth=4, avg_acc=0.8269\n",
      "n_classificadores=140, max_depth=6, avg_acc=0.8450\n",
      "n_classificadores=140, max_depth=8, avg_acc=0.8588\n",
      "n_classificadores=140, max_depth=10, avg_acc=0.8637\n",
      "n_classificadores=140, max_depth=None, avg_acc=0.8631\n",
      "n_classificadores=150, max_depth=4, avg_acc=0.8225\n",
      "n_classificadores=150, max_depth=6, avg_acc=0.8494\n",
      "n_classificadores=150, max_depth=8, avg_acc=0.8588\n",
      "n_classificadores=150, max_depth=10, avg_acc=0.8675\n",
      "n_classificadores=150, max_depth=None, avg_acc=0.8656\n",
      "n_classificadores=160, max_depth=4, avg_acc=0.8238\n",
      "n_classificadores=160, max_depth=6, avg_acc=0.8463\n",
      "n_classificadores=160, max_depth=8, avg_acc=0.8669\n",
      "n_classificadores=160, max_depth=10, avg_acc=0.8613\n",
      "n_classificadores=160, max_depth=None, avg_acc=0.8681\n",
      "n_classificadores=170, max_depth=4, avg_acc=0.8213\n",
      "n_classificadores=170, max_depth=6, avg_acc=0.8431\n",
      "n_classificadores=170, max_depth=8, avg_acc=0.8594\n",
      "n_classificadores=170, max_depth=10, avg_acc=0.8631\n",
      "n_classificadores=170, max_depth=None, avg_acc=0.8644\n",
      "n_classificadores=180, max_depth=4, avg_acc=0.8238\n",
      "n_classificadores=180, max_depth=6, avg_acc=0.8475\n",
      "n_classificadores=180, max_depth=8, avg_acc=0.8531\n",
      "n_classificadores=180, max_depth=10, avg_acc=0.8625\n",
      "n_classificadores=180, max_depth=None, avg_acc=0.8694\n",
      "n_classificadores=190, max_depth=4, avg_acc=0.8238\n",
      "n_classificadores=190, max_depth=6, avg_acc=0.8487\n",
      "n_classificadores=190, max_depth=8, avg_acc=0.8600\n",
      "n_classificadores=190, max_depth=10, avg_acc=0.8631\n",
      "n_classificadores=190, max_depth=None, avg_acc=0.8700\n",
      "n_classificadores=200, max_depth=4, avg_acc=0.8238\n",
      "n_classificadores=200, max_depth=6, avg_acc=0.8488\n",
      "n_classificadores=200, max_depth=8, avg_acc=0.8613\n",
      "n_classificadores=200, max_depth=10, avg_acc=0.8569\n",
      "n_classificadores=200, max_depth=None, avg_acc=0.8581\n"
     ]
    }
   ],
   "source": [
    "best_score_forest=0\n",
    "best_params_forest = {}\n",
    "\n",
    "for n in n_classificadores:\n",
    "    for depth in max_depth:\n",
    "        \n",
    "        def predicaoRandomForest(X_treino, y_treino, X_teste):\n",
    "            model = RandomForestClassifier(n_estimators=n, max_depth=depth, random_state=1, n_jobs=-1)\n",
    "            model.fit(X_treino, y_treino)\n",
    "            return model.predict(X_teste)\n",
    "        \n",
    "        acc, recalls, precs, f1s = k_fold_cross_validation(X_treino_california, y_treino_california, predicaoRandomForest, k=10)\n",
    "        \n",
    "        avg_acc = np.mean(acc)\n",
    "        print(f\"n_classificadores={n}, max_depth={depth}, avg_acc={avg_acc:.4f}\")\n",
    "\n",
    "        if avg_acc > best_score_forest:\n",
    "            best_score_forest = avg_acc\n",
    "            best_params_forest = {'n_classificadores': n, 'max_depth': depth}\n"
   ]
  },
  {
   "cell_type": "code",
   "execution_count": 37,
   "id": "476db08d",
   "metadata": {},
   "outputs": [
    {
     "name": "stdout",
     "output_type": "stream",
     "text": [
      "n_classificadores: 90\n",
      "max_depth: 10\n",
      "Melhor score de acurácia médio: 0.8706250000000001\n"
     ]
    }
   ],
   "source": [
    "best_n = best_params_forest['n_classificadores']    \n",
    "best_depth = best_params_forest['max_depth']\n",
    "print(f'n_classificadores: {best_n}\\nmax_depth: {best_depth}')\n",
    "print(f'Melhor score de acurácia médio: {best_score_forest}')"
   ]
  },
  {
   "cell_type": "markdown",
   "id": "dc90f94f",
   "metadata": {},
   "source": [
    "## item b) "
   ]
  },
  {
   "cell_type": "markdown",
   "id": "0adfe160",
   "metadata": {},
   "source": [
    "#### Normalizando os dados"
   ]
  },
  {
   "cell_type": "code",
   "execution_count": 53,
   "id": "05683c04",
   "metadata": {},
   "outputs": [],
   "source": [
    "from sklearn.preprocessing import StandardScaler\n",
    "\n",
    "scaler = StandardScaler()\n",
    "X_treino_california_norm = scaler.fit_transform(X_treino_california)\n",
    "X_teste_california_norm = scaler.transform(X_teste_california)"
   ]
  },
  {
   "cell_type": "markdown",
   "id": "f19ea0f0",
   "metadata": {},
   "source": [
    "#### Retreinando os modelos vencedores"
   ]
  },
  {
   "cell_type": "code",
   "execution_count": 72,
   "id": "cfbc910f",
   "metadata": {},
   "outputs": [],
   "source": [
    "modelSVM = SVC(kernel='rbf', C=best_c, gamma=best_gamma)\n",
    "modelSVM.fit(X_treino_california_norm, y_treino_california)\n",
    "y_pred_svm = modelSVM.predict(X_teste_california_norm)\n",
    "\n",
    "acc_svm, recalls_svm, precision_svm, f1_svm = compute_metrics_binary(y_pred_svm, y_teste_california)\n"
   ]
  },
  {
   "cell_type": "code",
   "execution_count": 55,
   "id": "2da3b3b6",
   "metadata": {},
   "outputs": [],
   "source": [
    "modelRandomForest = RandomForestClassifier(n_estimators=best_n, max_depth=best_depth, random_state=1, n_jobs=-1)\n",
    "modelRandomForest.fit(X_treino_california, y_treino_california)\n",
    "y_pred_forest = modelRandomForest.predict(X_teste_california)\n",
    "\n",
    "acc_forest, recalls_forest, precision_forest, f1_forest = compute_metrics_binary(y_pred_forest, y_teste_california)\n"
   ]
  },
  {
   "cell_type": "markdown",
   "id": "6e758f2d",
   "metadata": {},
   "source": [
    "#### Métricas"
   ]
  },
  {
   "cell_type": "code",
   "execution_count": 64,
   "id": "600b213a",
   "metadata": {},
   "outputs": [
    {
     "name": "stdout",
     "output_type": "stream",
     "text": [
      "=============== Métricas dos Modelos =============== \n",
      "Acurácia      - SVM: 0.8375 | Random Forest: 0.8500\n",
      "Revocação     - SVM: 0.8302 | Random Forest: 0.8302\n",
      "Precisão      - SVM: 0.8585 | Random Forest: 0.8800\n",
      "F1-Score      - SVM: 0.8441 | Random Forest: 0.8544\n"
     ]
    }
   ],
   "source": [
    "print(\"=============== Métricas dos Modelos =============== \")\n",
    "print(f\"Acurácia      - SVM: {acc_svm:.4f} | Random Forest: {acc_forest:.4f}\")\n",
    "print(f\"Revocação     - SVM: {recalls_svm:.4f} | Random Forest: {recalls_forest:.4f}\")\n",
    "print(f\"Precisão      - SVM: {precision_svm:.4f} | Random Forest: {precision_forest:.4f}\")\n",
    "print(f\"F1-Score      - SVM: {f1_svm:.4f} | Random Forest: {f1_forest:.4f}\")"
   ]
  },
  {
   "cell_type": "markdown",
   "id": "a08c5cc1",
   "metadata": {},
   "source": [
    "#### Curvas ROC e Precision-Recall"
   ]
  },
  {
   "cell_type": "code",
   "execution_count": 77,
   "id": "50689850",
   "metadata": {},
   "outputs": [
    {
     "data": {
      "image/png": "[encoded data removed]",
      "text/plain": [
       "<Figure size 1200x500 with 2 Axes>"
      ]
     },
     "metadata": {},
     "output_type": "display_data"
    }
   ],
   "source": [
    "from sklearn.metrics import roc_curve, auc, precision_recall_curve, average_precision_score\n",
    "import matplotlib.pyplot as plt\n",
    "\n",
    "y_scores_svm = modelSVM.decision_function(X_teste_california_norm)  \n",
    "\n",
    "fpr, tpr, _ = roc_curve(y_teste_california, y_scores_svm)\n",
    "roc_auc = auc(fpr, tpr)\n",
    "\n",
    "prec, rec, _ = precision_recall_curve(y_teste_california, y_scores_svm)\n",
    "prc_auc = average_precision_score(y_teste_california, y_scores_svm)\n",
    "\n",
    "plt.figure(figsize=(12, 5))\n",
    "\n",
    "# ROC\n",
    "plt.subplot(1, 2, 1)\n",
    "plt.plot(fpr, tpr, label=f\"AUROC = {roc_auc:.2f}\")\n",
    "plt.plot([0, 1], [0, 1], 'k--')\n",
    "plt.xlabel(\"Falso Positivo (FPR)\")\n",
    "plt.ylabel(\"Verdadeiro Positivo (TPR)\")\n",
    "plt.title(\"Curva ROC - SVM\")\n",
    "plt.legend()\n",
    "\n",
    "# Precision-Recall\n",
    "plt.subplot(1, 2, 2)\n",
    "plt.plot(rec, prec, label=f\"AUPRC = {prc_auc:.2f}\")\n",
    "plt.xlabel(\"Recall\")\n",
    "plt.ylabel(\"Precisão\")\n",
    "plt.title(\"Curva Precision-Recall - SVM\")\n",
    "plt.legend() \n",
    "\n",
    "\n",
    "plt.tight_layout()\n",
    "plt.show()\n"
   ]
  },
  {
   "cell_type": "code",
   "execution_count": 79,
   "id": "9a31c4d7",
   "metadata": {},
   "outputs": [
    {
     "data": {
      "image/png": "[encoded data removed]",
      "text/plain": [
       "<Figure size 1200x500 with 2 Axes>"
      ]
     },
     "metadata": {},
     "output_type": "display_data"
    }
   ],
   "source": [
    "y_scores_forest = modelRandomForest.predict_proba(X_teste_california)[:, 1]\n",
    "\n",
    "fpr, tpr, _ = roc_curve(y_teste_california, y_scores_forest)\n",
    "roc_auc = auc(fpr, tpr)\n",
    "\n",
    "prec, rec, _ = precision_recall_curve(y_teste_california, y_scores_forest)\n",
    "prc_auc = average_precision_score(y_teste_california, y_scores_forest)\n",
    "\n",
    "\n",
    "plt.figure(figsize=(12, 5))\n",
    "\n",
    "# ROC\n",
    "plt.subplot(1, 2, 1)\n",
    "plt.plot(fpr, tpr, label=f\"AUC = {roc_auc:.2f}\")\n",
    "plt.plot([0, 1], [0, 1], 'k--')\n",
    "plt.xlabel(\"Falso Positivo (FPR)\")\n",
    "plt.ylabel(\"Verdadeiro Positivo (TPR)\")\n",
    "plt.title(\"Curva ROC - Random Forest\")\n",
    "plt.legend()\n",
    "\n",
    "# Precision-Recall\n",
    "plt.subplot(1, 2, 2)\n",
    "plt.plot(rec, prec, label=f\"AUPRC = {prc_auc:.2f}\")\n",
    "plt.xlabel(\"Recall\")\n",
    "plt.ylabel(\"Precisão\")\n",
    "plt.title(\"Curva Precision-Recall - Random Forest\")\n",
    "plt.legend() \n",
    "\n",
    "plt.tight_layout()\n",
    "plt.show()"
   ]
  }
 ],
 "metadata": {
  "kernelspec": {
   "display_name": "Python 3",
   "language": "python",
   "name": "python3"
  },
  "language_info": {
   "codemirror_mode": {
    "name": "ipython",
    "version": 3
   },
   "file_extension": ".py",
   "mimetype": "text/x-python",
   "name": "python",
   "nbconvert_exporter": "python",
   "pygments_lexer": "ipython3",
   "version": "3.11.9"
  }
 },
 "nbformat": 4,
 "nbformat_minor": 5
}
