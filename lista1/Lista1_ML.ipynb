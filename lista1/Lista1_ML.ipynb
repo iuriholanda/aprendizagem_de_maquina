{
  "nbformat": 4,
  "nbformat_minor": 0,
  "metadata": {
    "colab": {
      "provenance": []
    },
    "kernelspec": {
      "name": "python3",
      "display_name": "Python 3"
    },
    "language_info": {
      "name": "python"
    }
  },
  "cells": [
    {
      "cell_type": "markdown",
      "source": [
        "\n",
        "\n",
        "#  Questão 1:\n",
        "\n",
        "\n"
      ],
      "metadata": {
        "id": "fV7cHe__nq9e"
      }
    },
    {
      "cell_type": "markdown",
      "source": [
        "## Leitura, normalização e separação dos dados"
      ],
      "metadata": {
        "id": "llOBIojen646"
      }
    },
    {
      "cell_type": "code",
      "execution_count": 28,
      "metadata": {
        "colab": {
          "base_uri": "https://localhost:8080/"
        },
        "id": "h-P9aMm0J0Zx",
        "outputId": "838c38db-3987-415d-da06-ed9573c93aba"
      },
      "outputs": [
        {
          "output_type": "execute_result",
          "data": {
            "text/plain": [
              "array([[-1.        , -2.08201726],\n",
              "       [-0.93103448, -1.32698023],\n",
              "       [-0.86206897, -1.10559772],\n",
              "       [-0.79310345, -0.87394576],\n",
              "       [-0.72413793, -0.28502695],\n",
              "       [-0.65517241, -0.43115252],\n",
              "       [-0.5862069 , -0.79475402],\n",
              "       [-0.51724138, -0.88606806],\n",
              "       [-0.44827586, -0.89989978],\n",
              "       [-0.37931034, -0.86184365],\n",
              "       [-0.31034483, -0.88805183],\n",
              "       [-0.24137931, -1.23595129],\n",
              "       [-0.17241379, -0.71956827],\n",
              "       [-0.10344828, -0.45202286],\n",
              "       [-0.03448276,  0.09889951],\n",
              "       [ 0.03448276,  0.34896973],\n",
              "       [ 0.10344828,  0.09747797],\n",
              "       [ 0.17241379,  0.70019809],\n",
              "       [ 0.24137931,  1.31051213],\n",
              "       [ 0.31034483,  1.00177576],\n",
              "       [ 0.37931034,  1.00318231],\n",
              "       [ 0.44827586,  1.14910129],\n",
              "       [ 0.51724138,  1.59220607],\n",
              "       [ 0.5862069 ,  0.60909009],\n",
              "       [ 0.65517241,  0.59441623],\n",
              "       [ 0.72413793,  0.70300732],\n",
              "       [ 0.79310345,  0.82332241],\n",
              "       [ 0.86206897,  1.10646439],\n",
              "       [ 0.93103448,  1.42295695],\n",
              "       [ 1.        ,  2.30983768]])"
            ]
          },
          "metadata": {},
          "execution_count": 28
        }
      ],
      "source": [
        "import numpy as np\n",
        "from numpy import genfromtxt\n",
        "import matplotlib.pyplot as plt\n",
        "\n",
        "dados1 = genfromtxt('/content/artificial1d.csv', delimiter=',')\n",
        "dados1"
      ]
    },
    {
      "cell_type": "code",
      "source": [
        "media1 = dados1.sum(axis = 0)/dados1.shape[0]\n",
        "desvio_padrao1 = np.sqrt(np.sum((dados1 - media1)**2, axis = 0)/(dados1.shape[0]-1))\n",
        "dados_normalizado1 = (dados1 - media1)/desvio_padrao1\n",
        "dados_normalizado1"
      ],
      "metadata": {
        "colab": {
          "base_uri": "https://localhost:8080/"
        },
        "id": "YUQzaFXLZ86L",
        "outputId": "b6961821-d538-445c-b209-cae8c94866e5"
      },
      "execution_count": 29,
      "outputs": [
        {
          "output_type": "execute_result",
          "data": {
            "text/plain": [
              "array([[-1.64708932, -2.01776249],\n",
              "       [-1.53349695, -1.30904437],\n",
              "       [-1.41990459, -1.10124292],\n",
              "       [-1.30631222, -0.883802  ],\n",
              "       [-1.19271985, -0.33101133],\n",
              "       [-1.07912749, -0.4681726 ],\n",
              "       [-0.96553512, -0.8094684 ],\n",
              "       [-0.85194275, -0.89518064],\n",
              "       [-0.73835038, -0.90816383],\n",
              "       [-0.62475802, -0.87244232],\n",
              "       [-0.51116565, -0.89704272],\n",
              "       [-0.39757328, -1.22359975],\n",
              "       [-0.28398092, -0.73889504],\n",
              "       [-0.17038855, -0.48776262],\n",
              "       [-0.05679618,  0.02936257],\n",
              "       [ 0.05679618,  0.26409184],\n",
              "       [ 0.17038855,  0.02802824],\n",
              "       [ 0.28398092,  0.59377355],\n",
              "       [ 0.39757328,  1.16664694],\n",
              "       [ 0.51116565,  0.87685048],\n",
              "       [ 0.62475802,  0.87817074],\n",
              "       [ 0.73835038,  1.0151381 ],\n",
              "       [ 0.85194275,  1.43105993],\n",
              "       [ 0.96553512,  0.50825472],\n",
              "       [ 1.07912749,  0.49448105],\n",
              "       [ 1.19271985,  0.59641045],\n",
              "       [ 1.30631222,  0.70934463],\n",
              "       [ 1.41990459,  0.97511683],\n",
              "       [ 1.53349695,  1.27219366],\n",
              "       [ 1.64708932,  2.10466732]])"
            ]
          },
          "metadata": {},
          "execution_count": 29
        }
      ]
    },
    {
      "cell_type": "code",
      "source": [
        "x = dados_normalizado1[:, [0]]\n",
        "y = dados_normalizado1[:, [1]]\n",
        "entradas_mod1 = np.c_[np.ones(x.shape[0]), x]"
      ],
      "metadata": {
        "id": "qQWXdRm3p20v"
      },
      "execution_count": 30,
      "outputs": []
    },
    {
      "cell_type": "markdown",
      "source": [
        "## item a: Mínimos quadrados ordinários"
      ],
      "metadata": {
        "id": "G9yk_b2eomrv"
      }
    },
    {
      "cell_type": "code",
      "source": [
        "w_mod1 = np.linalg.inv(entradas_mod1.T.dot(entradas_mod1)).dot(entradas_mod1.T).dot(y)\n",
        "w_mod1\n"
      ],
      "metadata": {
        "colab": {
          "base_uri": "https://localhost:8080/"
        },
        "id": "U-FG5VXwowdl",
        "outputId": "769de551-cdbf-4e92-e50c-ed4508b76282"
      },
      "execution_count": 31,
      "outputs": [
        {
          "output_type": "execute_result",
          "data": {
            "text/plain": [
              "array([[0.        ],\n",
              "       [0.89749391]])"
            ]
          },
          "metadata": {},
          "execution_count": 31
        }
      ]
    },
    {
      "cell_type": "code",
      "source": [
        "plt.scatter(x,y)\n",
        "xx = np.linspace(-2,2,100)\n",
        "yy = w_mod1[0] + w_mod1[1]*xx\n",
        "plt.plot(xx, yy, color='red')"
      ],
      "metadata": {
        "colab": {
          "base_uri": "https://localhost:8080/",
          "height": 447
        },
        "id": "d44M-Wgfribi",
        "outputId": "efdbdd1e-3594-4c58-9c6b-a710a3b13d0e"
      },
      "execution_count": 32,
      "outputs": [
        {
          "output_type": "execute_result",
          "data": {
            "text/plain": [
              "[<matplotlib.lines.Line2D at 0x7940e0ac3c90>]"
            ]
          },
          "metadata": {},
          "execution_count": 32
        },
        {
          "output_type": "display_data",
          "data": {
            "text/plain": [
              "<Figure size 640x480 with 1 Axes>"
            ],
            "image/png": "[encoded data removed]"
          },
          "metadata": {}
        }
      ]
    },
    {
      "cell_type": "code",
      "source": [
        "predicoes = entradas_mod1.dot(w_mod1)\n",
        "erros_denorm = dados1[:, [1]] - predicoes*desvio_padrao1[1] + media1[1]\n",
        "\n",
        "MSE1 = 0.5*np.mean(erros_denorm**2)\n",
        "\n",
        "MSE1"
      ],
      "metadata": {
        "colab": {
          "base_uri": "https://localhost:8080/"
        },
        "id": "vPfdojMLrzrn",
        "outputId": "c2e8f987-dcbe-46ed-9c27-48868db600a7"
      },
      "execution_count": 33,
      "outputs": [
        {
          "output_type": "execute_result",
          "data": {
            "text/plain": [
              "np.float64(0.11584481812947749)"
            ]
          },
          "metadata": {},
          "execution_count": 33
        }
      ]
    },
    {
      "cell_type": "markdown",
      "source": [
        "## item b: Gradiente Descendente"
      ],
      "metadata": {
        "id": "pEza0QIcnSEz"
      }
    },
    {
      "cell_type": "code",
      "source": [
        "alfa = 0.1\n",
        "\n",
        "w_mod2 = np.random.randn(dados1.shape[1], 1) #numero de atributos = 3\n",
        "\n",
        "iterations = 300\n",
        "MSE = np.zeros(iterations)\n",
        "\n",
        "for i in range(iterations):\n",
        "  predicoes = entradas_mod1.dot(w_mod2)\n",
        "  erros = y - predicoes\n",
        "  erros_denorm = dados1[:, [1]] - predicoes*desvio_padrao1[1] + media1[1]\n",
        "\n",
        "  MSE[i] = 0.5*np.mean(erros_denorm**2)\n",
        "\n",
        "\n",
        "  w_mod2 += (alfa/dados1.shape[0])*entradas_mod1.T.dot(erros)\n",
        "\n",
        "w_mod2"
      ],
      "metadata": {
        "colab": {
          "base_uri": "https://localhost:8080/"
        },
        "id": "FGhgK64HL2Dq",
        "outputId": "427b4cb4-cca2-4078-e47b-e4fff8c7841d"
      },
      "execution_count": null,
      "outputs": [
        {
          "output_type": "execute_result",
          "data": {
            "text/plain": [
              "array([[1.53377361e-14],\n",
              "       [8.97493907e-01]])"
            ]
          },
          "metadata": {},
          "execution_count": 10
        }
      ]
    },
    {
      "cell_type": "code",
      "source": [
        "plt.scatter(x,y)\n",
        "xx = np.linspace(-2,2,100)\n",
        "yy = w_mod2[0] + w_mod2[1]*xx\n",
        "plt.plot(xx, yy, color='red')"
      ],
      "metadata": {
        "colab": {
          "base_uri": "https://localhost:8080/",
          "height": 447
        },
        "id": "Xm1FTz4rMznl",
        "outputId": "aeea7e2b-508b-468d-8c28-e43b2bcf5100"
      },
      "execution_count": null,
      "outputs": [
        {
          "output_type": "execute_result",
          "data": {
            "text/plain": [
              "[<matplotlib.lines.Line2D at 0x7e52d01c94d0>]"
            ]
          },
          "metadata": {},
          "execution_count": 11
        },
        {
          "output_type": "display_data",
          "data": {
            "text/plain": [
              "<Figure size 640x480 with 1 Axes>"
            ],
            "image/png": "[encoded data removed]"
          },
          "metadata": {}
        }
      ]
    },
    {
      "cell_type": "code",
      "source": [
        "plt.plot(range(iterations), MSE)\n",
        "print(MSE[iterations-1])"
      ],
      "metadata": {
        "colab": {
          "base_uri": "https://localhost:8080/",
          "height": 447
        },
        "id": "CSbo0uAZHfv2",
        "outputId": "4cc0ba5f-0e9a-4756-a9e5-65cb524d4e2e"
      },
      "execution_count": null,
      "outputs": [
        {
          "output_type": "stream",
          "name": "stdout",
          "text": [
            "0.11584481812947499\n"
          ]
        },
        {
          "output_type": "display_data",
          "data": {
            "text/plain": [
              "<Figure size 640x480 with 1 Axes>"
            ],
            "image/png": "[encoded data removed]"
          },
          "metadata": {}
        }
      ]
    },
    {
      "cell_type": "markdown",
      "source": [
        "## item c: Gradiente Descendente Estocástico"
      ],
      "metadata": {
        "id": "Wse9kGSuncZ0"
      }
    },
    {
      "cell_type": "code",
      "source": [
        "alfa2 = 0.001\n",
        "\n",
        "m = entradas_mod1.shape[0]\n",
        "w_mod3 = np.random.randn(entradas_mod1.shape[1], 1)  # shape = (2, 1)\n",
        "iterations = 300\n",
        "MSE3 = np.zeros(iterations)\n",
        "\n",
        "for i in range(iterations):\n",
        "    mse_iteration = 0\n",
        "\n",
        "    for j in range(m):\n",
        "        xi = entradas_mod1[j].reshape(1, -1)  # shape (1, 2)\n",
        "        yi = y[j].reshape(1, 1)               # shape (1, 1)\n",
        "\n",
        "        predicao = xi.dot(w_mod3)\n",
        "        erro = yi - predicao\n",
        "        erros_denorm = dados1[j, [1]] - predicao*desvio_padrao1[1] + media1[1]\n",
        "\n",
        "        mse_iteration += 0.5 * erros_denorm**2\n",
        "\n",
        "        w_mod3 += alfa2 * xi.T.dot(erro)\n",
        "\n",
        "    MSE3[i] = mse_iteration.item() / m\n",
        "\n",
        "w_mod3"
      ],
      "metadata": {
        "colab": {
          "base_uri": "https://localhost:8080/"
        },
        "id": "x1tJ2UiljFUY",
        "outputId": "97b38168-8b81-4738-d3db-a2a6e6066219"
      },
      "execution_count": null,
      "outputs": [
        {
          "output_type": "execute_result",
          "data": {
            "text/plain": [
              "array([[-3.13646630e-04],\n",
              "       [ 8.97021383e-01]])"
            ]
          },
          "metadata": {},
          "execution_count": 13
        }
      ]
    },
    {
      "cell_type": "code",
      "source": [
        "plt.scatter(x,y)\n",
        "xx = np.linspace(-2,2,100)\n",
        "yy = w_mod3[0] + w_mod3[1]*xx\n",
        "plt.plot(xx, yy, color='red')"
      ],
      "metadata": {
        "colab": {
          "base_uri": "https://localhost:8080/",
          "height": 447
        },
        "id": "JO4ypyJzjqWf",
        "outputId": "e60b3535-af7f-44ee-e007-cd87f81cdeaa"
      },
      "execution_count": null,
      "outputs": [
        {
          "output_type": "execute_result",
          "data": {
            "text/plain": [
              "[<matplotlib.lines.Line2D at 0x7e52a1550250>]"
            ]
          },
          "metadata": {},
          "execution_count": 14
        },
        {
          "output_type": "display_data",
          "data": {
            "text/plain": [
              "<Figure size 640x480 with 1 Axes>"
            ],
            "image/png": "[encoded data removed]"
          },
          "metadata": {}
        }
      ]
    },
    {
      "cell_type": "code",
      "source": [
        "plt.plot(range(iterations), MSE3)\n",
        "print(MSE3[iterations-1])"
      ],
      "metadata": {
        "colab": {
          "base_uri": "https://localhost:8080/",
          "height": 447
        },
        "id": "FvibHpITjgkH",
        "outputId": "2e1fabc8-4c28-4f1d-cbab-a490805e1066"
      },
      "execution_count": null,
      "outputs": [
        {
          "output_type": "stream",
          "name": "stdout",
          "text": [
            "0.11607637750224985\n"
          ]
        },
        {
          "output_type": "display_data",
          "data": {
            "text/plain": [
              "<Figure size 640x480 with 1 Axes>"
            ],
            "image/png": "[encoded data removed]"
          },
          "metadata": {}
        }
      ]
    },
    {
      "cell_type": "markdown",
      "source": [
        "# Questão 2"
      ],
      "metadata": {
        "id": "EAE0BwAfnzHs"
      }
    },
    {
      "cell_type": "code",
      "source": [
        "dados2 = genfromtxt('/content/california.csv', delimiter=',')\n",
        "\n",
        "dados2.shape"
      ],
      "metadata": {
        "colab": {
          "base_uri": "https://localhost:8080/"
        },
        "id": "e-xM_XXkTnND",
        "outputId": "77e42011-335c-49e0-bea2-91bb8f6c1c87"
      },
      "execution_count": 3,
      "outputs": [
        {
          "output_type": "execute_result",
          "data": {
            "text/plain": [
              "(1000, 9)"
            ]
          },
          "metadata": {},
          "execution_count": 3
        }
      ]
    },
    {
      "cell_type": "markdown",
      "source": [
        "## item a: Split e normalização dos dados"
      ],
      "metadata": {
        "id": "0Mw02yCjVolW"
      }
    },
    {
      "cell_type": "code",
      "source": [
        "from sklearn.model_selection import train_test_split\n",
        "from sklearn.preprocessing import MinMaxScaler, StandardScaler\n",
        "\n",
        "# 1. Separação dos dados em treino/teste(80/20), atributos previsores e classe\n",
        "X_treino, X_teste, y_treino, y_teste = train_test_split(dados2[:, 0:8], dados2[:, [8]], test_size=0.2, random_state=0)\n",
        "\n",
        "# 2. Normalizando os inputs com MinMaxScaler\n",
        "input_scaler = MinMaxScaler()\n",
        "X_treino_normalizado = input_scaler.fit_transform(X_treino)\n",
        "X_teste_normalizado = input_scaler.transform(X_teste)\n",
        "\n",
        "# 3. Normalizando outputs com StandardScaler\n",
        "output_scaler = StandardScaler()\n",
        "y_treino_normalizado = output_scaler.fit_transform(y_treino)\n",
        "y_teste_normalizado = output_scaler.transform(y_teste)\n",
        "\n",
        "media2 = dados2.sum(axis = 0)/dados2.shape[0]\n",
        "desvio_padrao2 = np.sqrt(np.sum((dados2 - media2)**2, axis = 0)/(dados2.shape[0]-1))\n",
        "\n",
        "X_treino_normalizado = np.c_[np.ones(X_treino_normalizado.shape[0]), X_treino_normalizado]\n",
        "X_teste_normalizado = np.c_[np.ones(X_teste_normalizado.shape[0]), X_teste_normalizado]"
      ],
      "metadata": {
        "id": "RDw3T0AkVt-A"
      },
      "execution_count": 4,
      "outputs": []
    },
    {
      "cell_type": "markdown",
      "source": [
        "## item b: Treinamento de modelos de regressão polinomial 1 a 13"
      ],
      "metadata": {
        "id": "J9aPXQhdWze6"
      }
    },
    {
      "cell_type": "code",
      "source": [
        "def inserir_polinomio(dados_treino_x, ordem):\n",
        "  for i in range(dados_treino_x.shape[1]-1):\n",
        "    for j in range(1,ordem):\n",
        "      newcol = dados_treino_x[:, [i+1]]**(j+1)\n",
        "      dados_treino_x = np.column_stack((dados_treino_x, newcol))\n",
        "  return dados_treino_x"
      ],
      "metadata": {
        "id": "n9ojOnQwpTEq"
      },
      "execution_count": 5,
      "outputs": []
    },
    {
      "cell_type": "code",
      "source": [
        "#ordem 1\n",
        "poly1 = inserir_polinomio(X_treino_normalizado, 1)\n",
        "poly1_teste = inserir_polinomio(X_teste_normalizado, 1)\n",
        "w_poly1 = np.linalg.inv(poly1.T.dot(poly1)).dot(poly1.T).dot(y_treino_normalizado)\n"
      ],
      "metadata": {
        "id": "xkLDpOcSXApB"
      },
      "execution_count": 6,
      "outputs": []
    },
    {
      "cell_type": "code",
      "source": [
        "#ordem 2\n",
        "poly2 = inserir_polinomio(X_treino_normalizado, 2)\n",
        "poly2_teste = inserir_polinomio(X_teste_normalizado, 2)\n",
        "w_poly2 = np.linalg.inv(poly2.T.dot(poly2)).dot(poly2.T).dot(y_treino_normalizado)\n"
      ],
      "metadata": {
        "id": "-Gs8XK5JlFgu"
      },
      "execution_count": 7,
      "outputs": []
    },
    {
      "cell_type": "code",
      "source": [
        "#ordem 3\n",
        "poly3 = inserir_polinomio(X_treino_normalizado, 3)\n",
        "poly3_teste = inserir_polinomio(X_teste_normalizado, 3)\n",
        "w_poly3 = np.linalg.inv(poly3.T.dot(poly3)).dot(poly3.T).dot(y_treino_normalizado)\n"
      ],
      "metadata": {
        "id": "Wq0qDuLYlFzt"
      },
      "execution_count": 8,
      "outputs": []
    },
    {
      "cell_type": "code",
      "source": [
        "#ordem 4\n",
        "poly4 = inserir_polinomio(X_treino_normalizado, 4)\n",
        "poly4_teste = inserir_polinomio(X_teste_normalizado, 4)\n",
        "w_poly4 = np.linalg.inv(poly4.T.dot(poly4)).dot(poly4.T).dot(y_treino_normalizado)\n"
      ],
      "metadata": {
        "id": "pvDRpo-KlGDG"
      },
      "execution_count": 9,
      "outputs": []
    },
    {
      "cell_type": "code",
      "source": [
        "#ordem 5\n",
        "poly5 = inserir_polinomio(X_treino_normalizado, 5)\n",
        "poly5_teste = inserir_polinomio(X_teste_normalizado, 5)\n",
        "w_poly5 = np.linalg.inv(poly5.T.dot(poly5)).dot(poly5.T).dot(y_treino_normalizado)\n"
      ],
      "metadata": {
        "id": "otfmG9uKlGNa"
      },
      "execution_count": 10,
      "outputs": []
    },
    {
      "cell_type": "code",
      "source": [
        "#ordem 6\n",
        "poly6 = inserir_polinomio(X_treino_normalizado, 6)\n",
        "poly6_teste = inserir_polinomio(X_teste_normalizado, 6)\n",
        "w_poly6 = np.linalg.inv(poly6.T.dot(poly6)).dot(poly6.T).dot(y_treino_normalizado)\n"
      ],
      "metadata": {
        "id": "kwD66IpjlGe4"
      },
      "execution_count": 11,
      "outputs": []
    },
    {
      "cell_type": "code",
      "source": [
        "#ordem 7\n",
        "poly7 = inserir_polinomio(X_treino_normalizado, 7)\n",
        "poly7_teste = inserir_polinomio(X_teste_normalizado, 7)\n",
        "w_poly7 = np.linalg.inv(poly7.T.dot(poly7)).dot(poly7.T).dot(y_treino_normalizado)\n"
      ],
      "metadata": {
        "id": "reFsztWDlGss"
      },
      "execution_count": 12,
      "outputs": []
    },
    {
      "cell_type": "code",
      "source": [
        "#ordem 8\n",
        "poly8 = inserir_polinomio(X_treino_normalizado, 8)\n",
        "poly8_teste = inserir_polinomio(X_teste_normalizado, 8)\n",
        "w_poly8 = np.linalg.inv(poly8.T.dot(poly8)).dot(poly8.T).dot(y_treino_normalizado)\n"
      ],
      "metadata": {
        "id": "xhqAN_nIlHCd"
      },
      "execution_count": 13,
      "outputs": []
    },
    {
      "cell_type": "code",
      "source": [
        "#ordem 9\n",
        "poly9 = inserir_polinomio(X_treino_normalizado, 9)\n",
        "poly9_teste = inserir_polinomio(X_teste_normalizado, 9)\n",
        "w_poly9 = np.linalg.inv(poly9.T.dot(poly9)).dot(poly9.T).dot(y_treino_normalizado)\n"
      ],
      "metadata": {
        "id": "4AKEVQC9lHS7"
      },
      "execution_count": 14,
      "outputs": []
    },
    {
      "cell_type": "code",
      "source": [
        "#ordem 10\n",
        "poly10 = inserir_polinomio(X_treino_normalizado, 10)\n",
        "poly10_teste = inserir_polinomio(X_teste_normalizado, 10)\n",
        "w_poly10 = np.linalg.inv(poly10.T.dot(poly10)).dot(poly10.T).dot(y_treino_normalizado)\n"
      ],
      "metadata": {
        "id": "tM7wMHy9lHdi"
      },
      "execution_count": 15,
      "outputs": []
    },
    {
      "cell_type": "code",
      "source": [
        "#ordem 11\n",
        "poly11 = inserir_polinomio(X_treino_normalizado, 11)\n",
        "poly11_teste = inserir_polinomio(X_teste_normalizado, 11)\n",
        "w_poly11 = np.linalg.inv(poly11.T.dot(poly11)).dot(poly11.T).dot(y_treino_normalizado)\n"
      ],
      "metadata": {
        "id": "wgnoFOonlHm_"
      },
      "execution_count": 16,
      "outputs": []
    },
    {
      "cell_type": "code",
      "source": [
        "#ordem 12\n",
        "poly12 = inserir_polinomio(X_treino_normalizado, 12)\n",
        "poly12_teste = inserir_polinomio(X_teste_normalizado, 12)\n",
        "w_poly12 = np.linalg.inv(poly12.T.dot(poly12)).dot(poly12.T).dot(y_treino_normalizado)\n"
      ],
      "metadata": {
        "id": "WFlNXYe9lH61"
      },
      "execution_count": 17,
      "outputs": []
    },
    {
      "cell_type": "code",
      "source": [
        "#ordem 13\n",
        "poly13 = inserir_polinomio(X_treino_normalizado, 13)\n",
        "poly13_teste = inserir_polinomio(X_teste_normalizado, 13)\n",
        "w_poly13 = np.linalg.inv(poly13.T.dot(poly13)).dot(poly13.T).dot(y_treino_normalizado)\n"
      ],
      "metadata": {
        "id": "Zz5_bpIklILA"
      },
      "execution_count": 18,
      "outputs": []
    },
    {
      "cell_type": "markdown",
      "source": [
        "## item c: RMSE para cada modelo"
      ],
      "metadata": {
        "id": "TuXHbhdAEMga"
      }
    },
    {
      "cell_type": "markdown",
      "source": [
        "### c.1: Treino"
      ],
      "metadata": {
        "id": "iBLKICEuqrnA"
      }
    },
    {
      "cell_type": "code",
      "source": [
        "poly_sets_treino = [poly1, poly2, poly3, poly4, poly5, poly6, poly7, poly8, poly9, poly10, poly11, poly12, poly13]\n",
        "poly_sets_teste = [poly1_teste, poly2_teste, poly3_teste, poly4_teste, poly5_teste, poly6_teste, poly7_teste, poly8_teste, poly9_teste, poly10_teste, poly11_teste, poly12_teste, poly13_teste]\n",
        "w_sets = [w_poly1, w_poly2, w_poly3, w_poly4, w_poly5, w_poly6, w_poly7, w_poly8, w_poly9, w_poly10, w_poly11, w_poly12, w_poly13]\n",
        "\n",
        "RMSE_treino = np.zeros(13)\n",
        "\n",
        "for i in range(len(poly_sets_treino)):\n",
        "  y_previsto_treino = poly_sets_treino[i].dot(w_sets[i])\n",
        "  y_previsto_unnorm = output_scaler.inverse_transform(y_previsto_treino)\n",
        "  #y_previsto_unnorm = y_previsto_treino*desvio_padrao2[8] + media2[8]\n",
        "  erros_poly = y_treino - y_previsto_unnorm\n",
        "\n",
        "  RMSE_treino[i] = (np.mean(erros_poly**2))**0.5\n",
        "\n",
        "RMSE_treino"
      ],
      "metadata": {
        "colab": {
          "base_uri": "https://localhost:8080/"
        },
        "id": "d8l5kzl7ESOJ",
        "outputId": "26d37e44-f43f-4496-a419-c97b11063600"
      },
      "execution_count": 24,
      "outputs": [
        {
          "output_type": "execute_result",
          "data": {
            "text/plain": [
              "array([0.67293385, 0.65066666, 0.62684407, 0.61904686, 0.60917076,\n",
              "       0.59744162, 0.5921988 , 0.58882961, 0.59905491, 1.00300126,\n",
              "       0.71054883, 9.04186742, 9.83301269])"
            ]
          },
          "metadata": {},
          "execution_count": 24
        }
      ]
    },
    {
      "cell_type": "code",
      "source": [
        "#plot\n",
        "plt.plot(range(1,14), RMSE_treino)"
      ],
      "metadata": {
        "colab": {
          "base_uri": "https://localhost:8080/",
          "height": 447
        },
        "id": "ZGAA_DLaoClc",
        "outputId": "e9a3d437-ae9a-44fa-e0fe-024e346b0646"
      },
      "execution_count": 25,
      "outputs": [
        {
          "output_type": "execute_result",
          "data": {
            "text/plain": [
              "[<matplotlib.lines.Line2D at 0x7940de99bd50>]"
            ]
          },
          "metadata": {},
          "execution_count": 25
        },
        {
          "output_type": "display_data",
          "data": {
            "text/plain": [
              "<Figure size 640x480 with 1 Axes>"
            ],
            "image/png": "[encoded data removed]"
          },
          "metadata": {}
        }
      ]
    },
    {
      "cell_type": "markdown",
      "source": [
        "### c.2: Teste"
      ],
      "metadata": {
        "id": "D-Z1YD02qxww"
      }
    },
    {
      "cell_type": "code",
      "source": [
        "RMSE_teste = np.zeros(13)\n",
        "\n",
        "for i in range(len(poly_sets_teste)):\n",
        "  y_previsto_teste = poly_sets_teste[i].dot(w_sets[i])\n",
        "  y_previsto_unnorm = output_scaler.inverse_transform(y_previsto_teste)\n",
        "\n",
        "  erros_poly = y_teste - y_previsto_unnorm\n",
        "\n",
        "  RMSE_teste[i] = (np.mean(erros_poly**2))**0.5\n",
        "\n",
        "RMSE_teste"
      ],
      "metadata": {
        "colab": {
          "base_uri": "https://localhost:8080/"
        },
        "id": "Nev4vXwzq5AN",
        "outputId": "8793729e-a584-474a-ca26-c7874eb317f6"
      },
      "execution_count": 22,
      "outputs": [
        {
          "output_type": "execute_result",
          "data": {
            "text/plain": [
              "array([6.70504057e-01, 6.65867737e-01, 8.48661400e-01, 1.48674289e+00,\n",
              "       6.10438175e+00, 3.53759360e+01, 3.71420272e+01, 1.52469661e+02,\n",
              "       1.43179043e+04, 3.06241390e+06, 3.29853779e+06, 6.27234428e+08,\n",
              "       8.58292582e+09])"
            ]
          },
          "metadata": {},
          "execution_count": 22
        }
      ]
    },
    {
      "cell_type": "code",
      "source": [
        "#plot\n",
        "plt.plot(range(1,14), RMSE_teste)"
      ],
      "metadata": {
        "colab": {
          "base_uri": "https://localhost:8080/",
          "height": 462
        },
        "id": "Z1KO-bavr82Y",
        "outputId": "7e83611b-d09e-4127-8f46-dc8e15fddbd9"
      },
      "execution_count": 23,
      "outputs": [
        {
          "output_type": "execute_result",
          "data": {
            "text/plain": [
              "[<matplotlib.lines.Line2D at 0x7940de999b10>]"
            ]
          },
          "metadata": {},
          "execution_count": 23
        },
        {
          "output_type": "display_data",
          "data": {
            "text/plain": [
              "<Figure size 640x480 with 1 Axes>"
            ],
            "image/png": "[encoded data removed]"
          },
          "metadata": {}
        }
      ]
    },
    {
      "cell_type": "markdown",
      "source": [
        "## item d: Adicionando termo de regularização L2"
      ],
      "metadata": {
        "id": "ZH8bJxc1ET4L"
      }
    },
    {
      "cell_type": "code",
      "source": [
        "lambda_reg = 0.01\n",
        "w_sets_reg = []\n",
        "for i in range(13):\n",
        "  w_sets_reg.append(np.linalg.inv(poly_sets_treino[i].T.dot(poly_sets_treino[i]) + lambda_reg*np.identity(poly_sets_treino[i].shape[1])).dot(poly_sets_treino[i].T).dot(y_treino_normalizado))\n"
      ],
      "metadata": {
        "id": "A-1kWp3FEZ7O"
      },
      "execution_count": null,
      "outputs": []
    },
    {
      "cell_type": "markdown",
      "source": [
        "### d.1: Treino regularizado"
      ],
      "metadata": {
        "id": "--rnIlCOvmTj"
      }
    },
    {
      "cell_type": "code",
      "source": [
        "RMSE_treino_reg = np.zeros(13)\n",
        "\n",
        "for i in range(len(poly_sets_treino)):\n",
        "  y_previsto_treino = poly_sets_treino[i].dot(w_sets_reg[i])\n",
        "  y_previsto_unnorm = output_scaler.inverse_transform(y_previsto_treino)\n",
        "\n",
        "  erros_poly = y_treino - y_previsto_unnorm\n",
        "\n",
        "  RMSE_treino_reg[i] = (np.mean(erros_poly**2))**0.5\n",
        "\n",
        "RMSE_treino_reg"
      ],
      "metadata": {
        "colab": {
          "base_uri": "https://localhost:8080/"
        },
        "id": "DZAJbN8vveBO",
        "outputId": "d51abe95-abe4-48dc-99ac-5e62d150eea2"
      },
      "execution_count": null,
      "outputs": [
        {
          "output_type": "execute_result",
          "data": {
            "text/plain": [
              "array([0.67293731, 0.65091431, 0.63472495, 0.63053479, 0.62860389,\n",
              "       0.62784323, 0.62717285, 0.62613184, 0.62480177, 0.62345693,\n",
              "       0.62229132, 0.62137316, 0.62069856])"
            ]
          },
          "metadata": {},
          "execution_count": 52
        }
      ]
    },
    {
      "cell_type": "code",
      "source": [
        "#plot\n",
        "plt.plot(range(1,14), RMSE_treino_reg)"
      ],
      "metadata": {
        "colab": {
          "base_uri": "https://localhost:8080/",
          "height": 447
        },
        "id": "PRRKk3L9wdOU",
        "outputId": "d5f6a55d-d3c7-45a7-e40e-b39b9465d240"
      },
      "execution_count": null,
      "outputs": [
        {
          "output_type": "execute_result",
          "data": {
            "text/plain": [
              "[<matplotlib.lines.Line2D at 0x7e528907e6d0>]"
            ]
          },
          "metadata": {},
          "execution_count": 54
        },
        {
          "output_type": "display_data",
          "data": {
            "text/plain": [
              "<Figure size 640x480 with 1 Axes>"
            ],
            "image/png": "[encoded data removed]"
          },
          "metadata": {}
        }
      ]
    },
    {
      "cell_type": "markdown",
      "source": [
        "### d.2: Teste regularizado"
      ],
      "metadata": {
        "id": "gvLBsTDvvryy"
      }
    },
    {
      "cell_type": "code",
      "source": [
        "RMSE_teste_reg = np.zeros(13)\n",
        "\n",
        "for i in range(len(poly_sets_teste)):\n",
        "  y_previsto_teste = poly_sets_teste[i].dot(w_sets_reg[i])\n",
        "  y_previsto_unnorm = output_scaler.inverse_transform(y_previsto_teste)\n",
        "\n",
        "  erros_poly = y_teste - y_previsto_unnorm\n",
        "\n",
        "  RMSE_teste_reg[i] = (np.mean(erros_poly**2))**0.5\n",
        "\n",
        "RMSE_teste_reg"
      ],
      "metadata": {
        "colab": {
          "base_uri": "https://localhost:8080/"
        },
        "id": "TtmHDZ3LvvQ_",
        "outputId": "1167e907-3c34-426c-d5f5-c48f5ad6e1ce"
      },
      "execution_count": null,
      "outputs": [
        {
          "output_type": "execute_result",
          "data": {
            "text/plain": [
              "array([0.67076847, 0.6547426 , 0.62835311, 0.65165075, 0.75532186,\n",
              "       0.91316016, 1.10264203, 1.26934447, 1.32580631, 1.19617813,\n",
              "       0.92335073, 1.09892971, 2.32446869])"
            ]
          },
          "metadata": {},
          "execution_count": 53
        }
      ]
    },
    {
      "cell_type": "code",
      "source": [
        "#plot\n",
        "plt.plot(range(1,14), RMSE_teste_reg)"
      ],
      "metadata": {
        "colab": {
          "base_uri": "https://localhost:8080/",
          "height": 447
        },
        "id": "XC0mdnm9wgDd",
        "outputId": "91d4332e-abd8-4dbf-9151-abaa6431d739"
      },
      "execution_count": null,
      "outputs": [
        {
          "output_type": "execute_result",
          "data": {
            "text/plain": [
              "[<matplotlib.lines.Line2D at 0x7e528944e610>]"
            ]
          },
          "metadata": {},
          "execution_count": 55
        },
        {
          "output_type": "display_data",
          "data": {
            "text/plain": [
              "<Figure size 640x480 with 1 Axes>"
            ],
            "image/png": "[encoded data removed]"
          },
          "metadata": {}
        }
      ]
    }
  ]
}